{
 "cells": [
  {
   "cell_type": "markdown",
   "metadata": {},
   "source": [
    "# **Basic Python**"
   ]
  },
  {
   "cell_type": "markdown",
   "metadata": {},
   "source": [
    "## 1.a \n",
    "Give a function F that takes a single argument n. This function should print a sequence of n strings as described in the examples below: <br>\n",
    "Ex: **n = 3**\n",
    "\n",
    "--A--<br>\n",
    "-BAB-<br>\n",
    "CBABC<br>\n",
    "\n",
    "**n = 4**\n",
    "\n",
    "---A---<br>\n",
    "--BAB--<br>\n",
    "-CBABC-<br>\n",
    "DCBABCD"
   ]
  },
  {
   "cell_type": "code",
   "execution_count": null,
   "metadata": {},
   "outputs": [
    {
     "name": "stdout",
     "output_type": "stream",
     "text": [
      "---------A---------\n",
      "--------ABA--------\n",
      "-------ABCBA-------\n",
      "------ABCDCBA------\n",
      "-----ABCDEDCBA-----\n",
      "----ABCDEFEDCBA----\n",
      "---ABCDEFGFEDCBA---\n",
      "--ABCDEFGHGFEDCBA--\n",
      "-ABCDEFGHIHGFEDCBA-\n",
      "ABCDEFGHIJIHGFEDCBA\n",
      "-----A-----\n",
      "----ABA----\n",
      "---ABCBA---\n",
      "--ABCDCBA--\n",
      "-ABCDEDCBA-\n",
      "ABCDEFEDCBA\n"
     ]
    }
   ],
   "source": [
    "def F(n):\n",
    "    # Start coding\n",
    "    for i in range(n):\n",
    "        center=''.join(chr(65+j) for j in range(i)) + chr(65+i)+''.join(chr(65+j) for j in range(i-1,-1,-1))\n",
    "        dashes='-'*(n-i-1)\n",
    "        print(dashes+center+dashes)\n",
    "\n",
    "# Tests\n",
    "F(10)\n",
    "F(6)"
   ]
  },
  {
   "cell_type": "markdown",
   "metadata": {},
   "source": [
    "## 1.b\n",
    "Make a function F that takes only one argument, a dictionary(dict) d.\n",
    "The keys of d are integers and the values of d are a tuple of type (x (int), y (int)).\n",
    "You must print out the dict in the format \"-key-, -x-, -y-\" with each entry in a new line. Print it for each of the three sorted orders, by key values ascending, by x values descending, by y values ascending."
   ]
  },
  {
   "cell_type": "code",
   "execution_count": 21,
   "metadata": {},
   "outputs": [
    {
     "name": "stdout",
     "output_type": "stream",
     "text": [
      "-1-,-1-,-2-\n",
      "-2-,--1-,-4-\n",
      "-4-,-2-,-3-\n",
      "-5-,--4-,-3-\n",
      "-4-, -2-, -3-\n",
      "-1-, -1-, -2-\n",
      "-2-, --1-, -4-\n",
      "-5-, --4-, -3-\n",
      "-1-,-1-,-2-\n",
      "-5-,--4-,-3-\n",
      "-4-,-2-,-3-\n",
      "-2-,--1-,-4-\n",
      "--8-,-4-,-2-\n",
      "-5-,-9-,--10-\n",
      "-6-,--3-,-4-\n",
      "-7-,-2-,-1-\n",
      "-5-, -9-, --10-\n",
      "--8-, -4-, -2-\n",
      "-7-, -2-, -1-\n",
      "-6-, --3-, -4-\n",
      "-5-,-9-,--10-\n",
      "-7-,-2-,-1-\n",
      "--8-,-4-,-2-\n",
      "-6-,--3-,-4-\n"
     ]
    }
   ],
   "source": [
    "def F(d : dict):\n",
    "    # Start coding\n",
    "    for key in sorted(d):\n",
    "        x,y=d[key]\n",
    "        print(f\"-{key}-,-{x}-,-{y}-\")\n",
    "    for key,(x,y) in sorted(d.items(),key=lambda item: item[1][0], reverse=True):\n",
    "        print(f\"-{key}-, -{x}-, -{y}-\")\n",
    "    for key, (x,y) in sorted(d.items(), key=lambda item: item[1][1]):\n",
    "        print(f\"-{key}-,-{x}-,-{y}-\")\n",
    "\n",
    "# Tests\n",
    "F({1 : (1, 2), 2 : (-1, 4), 5 : (-4, 3), 4 : (2, 3)})\n",
    "F({-8 : (4, 2), 6 : (-3, 4), 7 : (2, 1), 5 : (9, -10)})"
   ]
  },
  {
   "cell_type": "markdown",
   "metadata": {},
   "source": [
    "## 2 Working with Student Records\n",
    "\n",
    "Use the data in **student_records.csv** to complete the given tasks. Do not include any external libraries. Use a Python dictionary if required.\n",
    "\n",
    "### Reference\n",
    "- [Python Dictionaries](https://www.w3schools.com/python/python_dictionaries.asp)\n"
   ]
  },
  {
   "cell_type": "markdown",
   "metadata": {},
   "source": [
    "#### 2.a: open the student_records.csv file and print out the first 10 rows"
   ]
  },
  {
   "cell_type": "code",
   "execution_count": 22,
   "metadata": {},
   "outputs": [
    {
     "name": "stdout",
     "output_type": "stream",
     "text": [
      "roll_number,department,credit,course_name,course_type,grade\n",
      "588946,MA,3,EC250,hasmed_elective,AB\n",
      "145372,EP,4,EP407,hasmed_elective,CC\n",
      "834515,MA,8,EP885,hasmed_elective,BB\n",
      "344265,CSE,6,CSE699,honours,AB\n",
      "358405,MA,3,EE460,minor,AP\n",
      "781075,CE,8,CE540,honours,CC\n",
      "180828,CSE,6,CE880,minor,AB\n",
      "981238,MM,4,CSE226,minor,AB\n",
      "836881,MM,8,MM530,core,AA\n",
      "310604,EE,8,EE202,core,AB\n"
     ]
    }
   ],
   "source": [
    "#TODO\n",
    "def solve(file_path):\n",
    "    with open(file_path, 'r') as file:\n",
    "        lines=file.readlines()\n",
    "        print(lines[0].strip())\n",
    "        for line in lines[1:11]:\n",
    "            print(line.strip())\n",
    "file_path='student_records.csv'\n",
    "solve(file_path)\n"
   ]
  },
  {
   "cell_type": "markdown",
   "metadata": {},
   "source": [
    "#### 2.b: Print out the total credits and calculte CPI of each student. \n",
    "CPI is the weighted average of core courses, and electives (weights being the letter grades converted to number AP,AA=10, AB=9, BB=8, BC=7, CC=6)"
   ]
  },
  {
   "cell_type": "code",
   "execution_count": 23,
   "metadata": {},
   "outputs": [
    {
     "name": "stdout",
     "output_type": "stream",
     "text": [
      "     588946 |           199 | 5.05\n",
      "     145372 |           173 | 4.91\n",
      "     834515 |           199 | 5.14\n",
      "     344265 |           153 | 5.52\n",
      "     358405 |           206 | 5.15\n",
      "     781075 |           246 | 5.20\n",
      "     180828 |           177 | 3.27\n",
      "     981238 |           168 | 6.11\n",
      "     836881 |           246 | 5.12\n",
      "     310604 |           198 | 3.77\n",
      "     847809 |           261 | 4.34\n",
      "     773982 |           264 | 4.78\n",
      "     500658 |           208 | 4.75\n",
      "     810863 |           192 | 4.13\n",
      "     124663 |           229 | 5.19\n",
      "     364146 |           225 | 4.84\n",
      "     871746 |           216 | 4.04\n",
      "     270007 |           241 | 4.24\n",
      "     597353 |           200 | 4.82\n",
      "     986057 |           199 | 3.47\n",
      "     718510 |           184 | 5.77\n",
      "     836431 |           160 | 5.39\n",
      "     379479 |           260 | 6.33\n",
      "     582912 |           221 | 4.57\n",
      "     788020 |           193 | 5.44\n",
      "     613401 |           209 | 6.69\n",
      "     144528 |           228 | 4.70\n",
      "     485484 |           216 | 4.62\n",
      "     680096 |           153 | 5.07\n",
      "     199713 |           172 | 6.60\n",
      "     851029 |           161 | 4.65\n",
      "     845623 |           237 | 4.27\n",
      "     150503 |           173 | 5.34\n",
      "     214270 |           229 | 5.00\n",
      "     517837 |           205 | 5.39\n",
      "     482623 |           254 | 5.59\n",
      "     721490 |           235 | 5.79\n",
      "     955757 |           251 | 3.91\n",
      "     589528 |           153 | 3.97\n",
      "     143856 |           201 | 5.04\n",
      "     571782 |           217 | 4.90\n",
      "     973158 |           193 | 3.96\n",
      "     703403 |           254 | 5.45\n",
      "     960395 |           262 | 5.45\n",
      "     521087 |           223 | 4.30\n",
      "     461971 |           252 | 4.76\n",
      "     879634 |           203 | 4.43\n",
      "     716985 |           185 | 3.89\n",
      "     194063 |           157 | 4.36\n",
      "     265922 |           236 | 4.48\n",
      "     283796 |           211 | 5.12\n",
      "     203200 |           157 | 5.91\n",
      "     301135 |           206 | 4.04\n",
      "     327122 |           246 | 4.22\n",
      "     381526 |           160 | 5.74\n",
      "     534763 |           158 | 4.89\n",
      "     391848 |           217 | 3.92\n",
      "     329535 |           157 | 3.38\n",
      "     971123 |           210 | 4.37\n",
      "     207443 |           161 | 5.35\n",
      "     488661 |           248 | 3.99\n",
      "     782129 |           184 | 4.91\n",
      "     928288 |           191 | 4.54\n",
      "     581858 |           216 | 5.12\n",
      "     733782 |           169 | 3.07\n",
      "     282482 |           228 | 4.95\n",
      "     572815 |           212 | 4.07\n",
      "     608952 |           251 | 4.03\n",
      "     628849 |           183 | 5.68\n",
      "     630568 |           217 | 5.62\n",
      "     388969 |           229 | 4.52\n",
      "     159438 |           176 | 4.68\n",
      "     478606 |           244 | 3.85\n",
      "     995208 |           157 | 4.18\n",
      "     841365 |           177 | 4.36\n",
      "     870642 |           161 | 4.29\n",
      "     970791 |           220 | 4.41\n",
      "     143142 |           234 | 5.22\n",
      "     998293 |           207 | 4.04\n",
      "     907454 |           245 | 5.17\n",
      "     681499 |           234 | 4.69\n",
      "     888886 |           207 | 5.56\n",
      "     608522 |           159 | 4.57\n",
      "     362471 |           214 | 5.20\n",
      "     465496 |           168 | 5.79\n",
      "     208100 |           182 | 4.96\n",
      "     138296 |           200 | 3.83\n",
      "     775967 |           197 | 4.08\n",
      "     692318 |           216 | 3.50\n",
      "     461584 |           234 | 4.98\n",
      "     626000 |           210 | 5.47\n",
      "     458200 |           190 | 5.78\n",
      "     581065 |           196 | 4.51\n",
      "     787967 |           192 | 4.41\n",
      "     381227 |           179 | 4.32\n",
      "     750259 |           209 | 4.19\n",
      "     881983 |           169 | 5.73\n",
      "     294697 |           269 | 4.64\n",
      "     816041 |           158 | 4.65\n",
      "     993835 |           175 | 4.11\n"
     ]
    }
   ],
   "source": [
    "#TODO\n",
    "def solve(file_path):\n",
    "    gradepoints = {\n",
    "        \"AP\":10, \"AA\":10,\n",
    "        \"AB\": 9, \"BB\": 8,\n",
    "        \"BC\": 7, \"CC\": 6,\n",
    "    }\n",
    "    student_data={}\n",
    "    with open(file_path,'r') as file:\n",
    "        lines=file.readlines()\n",
    "        records=[line.strip().split(',') for line in lines[1:]]\n",
    "    for record in records:\n",
    "        roll_number = int(record[0])\n",
    "        credit = int(record[2])\n",
    "        course_type = record[4]\n",
    "        grade = record[5]\n",
    "        if roll_number not in student_data:\n",
    "           student_data[roll_number] = {\"total_credits\": 0, \"weighted_sum\": 0}\n",
    "        student_data[roll_number][\"total_credits\"] += credit\n",
    "        if course_type in [\"core\", \"hasmed_elective\", \"minor\", \"honours\"]:\n",
    "           student_data[roll_number][\"weighted_sum\"] += gradepoints[grade] * credit\n",
    "    for roll_number, data in student_data.items():\n",
    "        total_credits = data[\"total_credits\"]\n",
    "        weighted_sum = data[\"weighted_sum\"]\n",
    "        cpi = round(weighted_sum / total_credits, 2) if total_credits > 0 else 0\n",
    "        print(f\"{roll_number:11} | {total_credits:13} | {cpi:.2f}\")\n",
    "file_path = 'student_records.csv'\n",
    "solve(file_path)\n",
    "\n",
    "    \n",
    "    "
   ]
  },
  {
   "cell_type": "markdown",
   "metadata": {},
   "source": [
    "#### 2.c: Print out the roll numbers of all students who meet the graduation requirements \n",
    "Atleast 20 credist of core course, 15 credits of department elective, 10 credits of flexible elective and 5 credits of hasmed electives"
   ]
  },
  {
   "cell_type": "code",
   "execution_count": 5,
   "metadata": {},
   "outputs": [],
   "source": [
    "#TODO"
   ]
  },
  {
   "cell_type": "markdown",
   "metadata": {},
   "source": [
    "#### 2.d: Print out the roll numbers of all students who completed a minor \n",
    "Atleast 10 credits with minor tag in a specific department"
   ]
  },
  {
   "cell_type": "code",
   "execution_count": 6,
   "metadata": {},
   "outputs": [],
   "source": [
    "#TODO"
   ]
  },
  {
   "cell_type": "markdown",
   "metadata": {},
   "source": [
    "#### 2.e: Print out the roll numbers of all students who completed a honours\n",
    "Atleast 10 credits with honours tag and 20 core credits"
   ]
  },
  {
   "cell_type": "code",
   "execution_count": 7,
   "metadata": {},
   "outputs": [],
   "source": [
    "#TODO"
   ]
  },
  {
   "cell_type": "markdown",
   "metadata": {},
   "source": [
    "# **SciPy** "
   ]
  },
  {
   "cell_type": "markdown",
   "metadata": {},
   "source": [
    "## Part A\n",
    "Minimize the function $f(x, y) = 2(x - y - 3)^2 + 4(x + 2y + 1)^4$.<br>\n",
    "With the constraints : $ x - y \\ge -3, (x + 2)^2 + (y + 1)^2 \\le 5$ <br>\n",
    "Using scipy.optimize.minimize with constraints. (Hint: Look at the examples in the official documentation)"
   ]
  },
  {
   "cell_type": "code",
   "execution_count": 8,
   "metadata": {},
   "outputs": [],
   "source": [
    "#TODO"
   ]
  },
  {
   "cell_type": "markdown",
   "metadata": {},
   "source": [
    "# Part B\n",
    "Evaluate the line integral of the function $f(x, y) = x^2 + y^4$ along the circle $ x^2 + y^2 = 3 $ anticlockwise (scalar integral, not vector). You must use scipy for integration but you may use parameterization"
   ]
  },
  {
   "cell_type": "code",
   "execution_count": 9,
   "metadata": {},
   "outputs": [],
   "source": [
    "#TODO"
   ]
  },
  {
   "cell_type": "markdown",
   "metadata": {},
   "source": [
    "# **Numpy**"
   ]
  },
  {
   "cell_type": "markdown",
   "metadata": {},
   "source": [
    "### Read Lisan_Al_Gaib.pdf for problem description and complete the following functions"
   ]
  },
  {
   "cell_type": "code",
   "execution_count": 10,
   "metadata": {},
   "outputs": [],
   "source": [
    "import time # to time the execution\n",
    "import numpy as np\n",
    "import matplotlib.pyplot as plt"
   ]
  },
  {
   "cell_type": "code",
   "execution_count": 11,
   "metadata": {},
   "outputs": [],
   "source": [
    "### TODO 1\n",
    "### Load data from data_path\n",
    "### Check the input file spice_locations.txt to understand the Data Format\n",
    "### Return : np array of size Nx2\n",
    "def load_data(data_path):\n",
    "    return None"
   ]
  },
  {
   "cell_type": "code",
   "execution_count": 12,
   "metadata": {},
   "outputs": [],
   "source": [
    "### TODO 2.1\n",
    "### If init_centers is None, initialize the centers by selecting K data points at random without replacement\n",
    "### Else, use the centers provided in init_centers\n",
    "### Return : np array of size Kx2\n",
    "def initialise_centers(data, K, init_centers=None):\n",
    "    return None"
   ]
  },
  {
   "cell_type": "code",
   "execution_count": 13,
   "metadata": {},
   "outputs": [],
   "source": [
    "### TODO 2.2\n",
    "### Initialize the labels to all ones to size (N,) where N is the number of data points\n",
    "### Return : np array of size N\n",
    "def initialise_labels(data):\n",
    "    return None"
   ]
  },
  {
   "cell_type": "code",
   "execution_count": 14,
   "metadata": {},
   "outputs": [],
   "source": [
    "### TODO 3.1 : E step\n",
    "### For Each data point, find the distance to each center\n",
    "### Return : np array of size NxK\n",
    "def calculate_distances(data, centers):\n",
    "    return None"
   ]
  },
  {
   "cell_type": "code",
   "execution_count": 15,
   "metadata": {},
   "outputs": [],
   "source": [
    "### TODO 3.2 : E step\n",
    "### For Each data point, assign the label of the nearest center\n",
    "### Return : np array of size N\n",
    "def update_labels(distances):\n",
    "    return None"
   ]
  },
  {
   "cell_type": "code",
   "execution_count": 16,
   "metadata": {},
   "outputs": [],
   "source": [
    "### TODO 4 : M step\n",
    "### Update the centers to the mean of the data points assigned to it\n",
    "### Return : np array of size Kx2\n",
    "def update_centers(data, labels, K):\n",
    "    return None\n"
   ]
  },
  {
   "cell_type": "code",
   "execution_count": 17,
   "metadata": {},
   "outputs": [],
   "source": [
    "### TODO 6 : Check convergence\n",
    "### Check if the labels have changed from the previous iteration\n",
    "### Return : True / False\n",
    "def check_termination(labels1, labels2):\n",
    "    return None"
   ]
  },
  {
   "cell_type": "code",
   "execution_count": 18,
   "metadata": {},
   "outputs": [],
   "source": [
    "### DON'T CHANGE ANYTHING IN THE FOLLOWING FUNCTION\n",
    "def kmeans(data_path:str, K:int, init_centers):\n",
    "    '''\n",
    "    Input :\n",
    "        data (type str): path to the file containing the data\n",
    "        K (type int): number of clusters\n",
    "        init_centers (type numpy.ndarray): initial centers. shape = (K, 2) or None\n",
    "    Output :\n",
    "        centers (type numpy.ndarray): final centers. shape = (K, 2)\n",
    "        labels (type numpy.ndarray): label of each data point. shape = (N,)\n",
    "        time (type float): time taken by the algorithm to converge in seconds\n",
    "    N is the number of data points each of shape (2,)\n",
    "    '''\n",
    "    data = load_data(data_path)    \n",
    "    centers = initialise_centers(data, K, init_centers)\n",
    "    labels = initialise_labels(data)\n",
    "\n",
    "    start_time = time.time() # Time stamp \n",
    "\n",
    "    while True:\n",
    "        distances = calculate_distances(data, centers)\n",
    "        labels_new = update_labels(distances)\n",
    "        centers = update_centers(data, labels_new, K)\n",
    "        if check_termination(labels, labels_new): break\n",
    "        else: labels = labels_new\n",
    " \n",
    "    end_time = time.time() # Time stamp after the algorithm ends\n",
    "    return centers, labels, end_time - start_time "
   ]
  },
  {
   "cell_type": "code",
   "execution_count": 19,
   "metadata": {},
   "outputs": [],
   "source": [
    "### TODO 7\n",
    "def visualise(data_path, labels, centers):\n",
    "    data = load_data(data_path)\n",
    "\n",
    "    # Scatter plot of the data points\n",
    "    plt.scatter(data[:, 0], data[:, 1], c=labels, s=50, cmap='viridis')\n",
    "    plt.scatter(centers[:, 0], centers[:, 1], c='black', s=200, alpha=0.5)\n",
    "\n",
    "    ### Set title as 'K-means clustering'\n",
    "\n",
    "    ### Set xlabel as 'Longitude'\n",
    "\n",
    "    ### Set ylabel as 'Latitude'\n",
    "\n",
    "    ### Save the plot as 'kmeans.png'\n",
    "\n",
    "\n",
    "    ## DO NOT CHANGE THE FOLLOWING LINE\n",
    "    return plt"
   ]
  },
  {
   "cell_type": "code",
   "execution_count": 20,
   "metadata": {},
   "outputs": [
    {
     "ename": "KeyboardInterrupt",
     "evalue": "",
     "output_type": "error",
     "traceback": [
      "\u001b[0;31m---------------------------------------------------------------------------\u001b[0m",
      "\u001b[0;31mKeyboardInterrupt\u001b[0m                         Traceback (most recent call last)",
      "Cell \u001b[0;32mIn[20], line 4\u001b[0m\n\u001b[1;32m      2\u001b[0m data_path \u001b[38;5;241m=\u001b[39m \u001b[38;5;124m'\u001b[39m\u001b[38;5;124mspice_locations.txt\u001b[39m\u001b[38;5;124m'\u001b[39m\n\u001b[1;32m      3\u001b[0m K, init_centers \u001b[38;5;241m=\u001b[39m \u001b[38;5;241m2\u001b[39m, \u001b[38;5;28;01mNone\u001b[39;00m\n\u001b[0;32m----> 4\u001b[0m centers, labels, time_taken \u001b[38;5;241m=\u001b[39m \u001b[43mkmeans\u001b[49m\u001b[43m(\u001b[49m\u001b[43mdata_path\u001b[49m\u001b[43m,\u001b[49m\u001b[43m \u001b[49m\u001b[43mK\u001b[49m\u001b[43m,\u001b[49m\u001b[43m \u001b[49m\u001b[43minit_centers\u001b[49m\u001b[43m)\u001b[49m\n\u001b[1;32m      5\u001b[0m \u001b[38;5;28mprint\u001b[39m(\u001b[38;5;124m'\u001b[39m\u001b[38;5;124mTime taken for the algorithm to converge:\u001b[39m\u001b[38;5;124m'\u001b[39m, time_taken)\n\u001b[1;32m      6\u001b[0m visualise(data_path, labels, centers)\n",
      "Cell \u001b[0;32mIn[18], line 23\u001b[0m, in \u001b[0;36mkmeans\u001b[0;34m(data_path, K, init_centers)\u001b[0m\n\u001b[1;32m     21\u001b[0m distances \u001b[38;5;241m=\u001b[39m calculate_distances(data, centers)\n\u001b[1;32m     22\u001b[0m labels_new \u001b[38;5;241m=\u001b[39m update_labels(distances)\n\u001b[0;32m---> 23\u001b[0m centers \u001b[38;5;241m=\u001b[39m \u001b[43mupdate_centers\u001b[49m\u001b[43m(\u001b[49m\u001b[43mdata\u001b[49m\u001b[43m,\u001b[49m\u001b[43m \u001b[49m\u001b[43mlabels_new\u001b[49m\u001b[43m,\u001b[49m\u001b[43m \u001b[49m\u001b[43mK\u001b[49m\u001b[43m)\u001b[49m\n\u001b[1;32m     24\u001b[0m \u001b[38;5;28;01mif\u001b[39;00m check_termination(labels, labels_new): \u001b[38;5;28;01mbreak\u001b[39;00m\n\u001b[1;32m     25\u001b[0m \u001b[38;5;28;01melse\u001b[39;00m: labels \u001b[38;5;241m=\u001b[39m labels_new\n",
      "Cell \u001b[0;32mIn[16], line 4\u001b[0m, in \u001b[0;36mupdate_centers\u001b[0;34m(data, labels, K)\u001b[0m\n\u001b[1;32m      1\u001b[0m \u001b[38;5;66;03m### TODO 4 : M step\u001b[39;00m\n\u001b[1;32m      2\u001b[0m \u001b[38;5;66;03m### Update the centers to the mean of the data points assigned to it\u001b[39;00m\n\u001b[1;32m      3\u001b[0m \u001b[38;5;66;03m### Return : np array of size Kx2\u001b[39;00m\n\u001b[0;32m----> 4\u001b[0m \u001b[38;5;28;01mdef\u001b[39;00m \u001b[38;5;21mupdate_centers\u001b[39m(data, labels, K):\n\u001b[1;32m      5\u001b[0m     \u001b[38;5;28;01mreturn\u001b[39;00m \u001b[38;5;28;01mNone\u001b[39;00m\n",
      "\u001b[0;31mKeyboardInterrupt\u001b[0m: "
     ]
    }
   ],
   "source": [
    "### After you have completed the above functions, run the following code to generate the plot\n",
    "data_path = 'spice_locations.txt'\n",
    "K, init_centers = 2, None\n",
    "centers, labels, time_taken = kmeans(data_path, K, init_centers)\n",
    "print('Time taken for the algorithm to converge:', time_taken)\n",
    "visualise(data_path, labels, centers)"
   ]
  }
 ],
 "metadata": {
  "kernelspec": {
   "display_name": "Python 3",
   "language": "python",
   "name": "python3"
  },
  "language_info": {
   "codemirror_mode": {
    "name": "ipython",
    "version": 3
   },
   "file_extension": ".py",
   "mimetype": "text/x-python",
   "name": "python",
   "nbconvert_exporter": "python",
   "pygments_lexer": "ipython3",
   "version": "3.12.3"
  }
 },
 "nbformat": 4,
 "nbformat_minor": 2
}
